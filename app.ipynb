{
 "cells": [
  {
   "cell_type": "code",
   "execution_count": 1,
   "id": "d3f03d25",
   "metadata": {},
   "outputs": [
    {
     "name": "stderr",
     "output_type": "stream",
     "text": [
      "c:\\Users\\Administrator\\Desktop\\RAG Using Agentic AI\\rag_env\\Lib\\site-packages\\IPython\\core\\interactiveshell.py:3667: LangChainDeprecationWarning: As of langchain-core 0.3.0, LangChain uses pydantic v2 internally. The langchain_core.pydantic_v1 module was a compatibility shim for pydantic v1, and should no longer be used. Please update the code to import from Pydantic directly.\n",
      "\n",
      "For example, replace imports like: `from langchain_core.pydantic_v1 import BaseModel`\n",
      "with: `from pydantic import BaseModel`\n",
      "or the v1 compatibility namespace if you are working in a code base that has not been fully upgraded to pydantic 2 yet. \tfrom pydantic.v1 import BaseModel\n",
      "\n",
      "  exec(code_obj, self.user_global_ns, self.user_ns)\n",
      "USER_AGENT environment variable not set, consider setting it to identify your requests.\n"
     ]
    }
   ],
   "source": [
    "from typing import Annotated, Literal, Sequence, TypedDict\n",
    "from langchain import hub\n",
    "from langchain_core.messages import BaseMessage, HumanMessage\n",
    "from langchain_core.output_parsers import StrOutputParser\n",
    "from langchain_core.prompts import PromptTemplate\n",
    "from langchain_core.pydantic_v1 import BaseModel, Field\n",
    "from langgraph.graph.message import add_messages\n",
    "from langgraph.prebuilt import tools_condition\n",
    "from langchain_community.document_loaders import WebBaseLoader\n",
    "from langchain_community.vectorstores import Chroma\n",
    "from langchain_text_splitters import RecursiveCharacterTextSplitter\n",
    "from langchain.tools.retriever import create_retriever_tool\n",
    "from langgraph.graph import END, StateGraph, START\n",
    "from langgraph.prebuilt import ToolNode\n",
    "import warnings\n",
    "warnings.filterwarnings(\"ignore\")"
   ]
  },
  {
   "cell_type": "code",
   "execution_count": 2,
   "id": "28987050",
   "metadata": {},
   "outputs": [],
   "source": [
    "import os\n",
    "from dotenv import load_dotenv\n",
    "load_dotenv()\n",
    "\n",
    "os.environ[\"GROQ_API_KEY\"] = os.getenv(\"GROQ_API_KEY\")"
   ]
  },
  {
   "cell_type": "code",
   "execution_count": 3,
   "id": "defb2caf",
   "metadata": {},
   "outputs": [],
   "source": [
    "from langchain_huggingface import HuggingFaceEmbeddings\n",
    "embeddings=HuggingFaceEmbeddings(model_name=\"all-MiniLM-L6-v2\")\n",
    "from langchain_groq import ChatGroq\n",
    "llm=ChatGroq(model_name=\"meta-llama/llama-4-scout-17b-16e-instruct\")"
   ]
  },
  {
   "cell_type": "code",
   "execution_count": 4,
   "id": "a6bcf0bf",
   "metadata": {},
   "outputs": [],
   "source": [
    "urls = [\n",
    "    \"https://lilianweng.github.io/posts/2023-06-23-agent/\",\n",
    "    \"https://lilianweng.github.io/posts/2023-03-15-prompt-engineering/\",\n",
    "]"
   ]
  },
  {
   "cell_type": "code",
   "execution_count": 5,
   "id": "7b621d5e",
   "metadata": {},
   "outputs": [],
   "source": [
    "docs = [WebBaseLoader(url).load() for url in urls]"
   ]
  },
  {
   "cell_type": "code",
   "execution_count": 6,
   "id": "2432379e",
   "metadata": {},
   "outputs": [],
   "source": [
    "docs_list = [item for sublist in docs for item in sublist]"
   ]
  },
  {
   "cell_type": "code",
   "execution_count": 7,
   "id": "9742eae8",
   "metadata": {},
   "outputs": [],
   "source": [
    "text_splitter=RecursiveCharacterTextSplitter.from_tiktoken_encoder(chunk_size=100, chunk_overlap=5)"
   ]
  },
  {
   "cell_type": "code",
   "execution_count": 8,
   "id": "7b028cb9",
   "metadata": {},
   "outputs": [],
   "source": [
    "doc_splits=text_splitter.split_documents(docs_list)"
   ]
  },
  {
   "cell_type": "code",
   "execution_count": 9,
   "id": "58862bdc",
   "metadata": {},
   "outputs": [],
   "source": [
    "vectorstore=Chroma.from_documents(\n",
    "    documents=doc_splits,\n",
    "    collection_name=\"rag-chrome\",\n",
    "    embedding=embeddings\n",
    "    \n",
    ")"
   ]
  },
  {
   "cell_type": "code",
   "execution_count": 10,
   "id": "7a91d96c",
   "metadata": {},
   "outputs": [],
   "source": [
    "retriever=vectorstore.as_retriever()"
   ]
  },
  {
   "cell_type": "code",
   "execution_count": 11,
   "id": "a994def8",
   "metadata": {},
   "outputs": [],
   "source": [
    "retriever_tool = create_retriever_tool(\n",
    "    retriever,\n",
    "    \"retrieve_blog_posts\",\n",
    "    \"Search and return information about Lilian Weng blog posts on LLM agents, prompt engineering, and adversarial attacks on LLMs.You are a specialized assistant. Use the 'retriever_tool' **only** when the query explicitly relates to LangChain blog data. For all other queries, respond directly without using any tool. For simple queries like 'hi', 'hello', or 'how are you', provide a normal response.\",\n",
    "    \n",
    ")"
   ]
  },
  {
   "cell_type": "code",
   "execution_count": 12,
   "id": "05961a5a",
   "metadata": {},
   "outputs": [],
   "source": [
    "tools=[retriever_tool]"
   ]
  },
  {
   "cell_type": "code",
   "execution_count": 13,
   "id": "783b8149",
   "metadata": {},
   "outputs": [],
   "source": [
    "class AgentState(TypedDict):\n",
    "    messages: Annotated[Sequence[BaseMessage], add_messages]"
   ]
  },
  {
   "cell_type": "code",
   "execution_count": 14,
   "id": "fe75b4e1",
   "metadata": {},
   "outputs": [],
   "source": [
    "class grade(BaseModel):\n",
    "    binary_score:str = Field(description=\"The score of the answer, either 'yes' or 'no'.\")"
   ]
  },
  {
   "cell_type": "code",
   "execution_count": 15,
   "id": "67ea0141",
   "metadata": {},
   "outputs": [],
   "source": [
    "def AI_Assistance(state:AgentState):\n",
    "    print(\"---CALL AGENT---\")\n",
    "    messages = state['messages']\n",
    "\n",
    "    \n",
    "    if len(messages)>1:\n",
    "        response=llm.invoke(messages[-1].content)\n",
    "        return {\"messages\": [response]}\n",
    "    else:\n",
    "        llm_with_tool = llm.bind_tools(tools)\n",
    "        response = llm_with_tool.invoke(messages)\n",
    "        #response=handle_query(messages)\n",
    "        return {\"messages\": [response]}"
   ]
  },
  {
   "cell_type": "code",
   "execution_count": 16,
   "id": "5b5e5670",
   "metadata": {},
   "outputs": [],
   "source": [
    "retrieve = ToolNode([retriever_tool])"
   ]
  },
  {
   "cell_type": "code",
   "execution_count": 17,
   "id": "f751f787",
   "metadata": {},
   "outputs": [],
   "source": [
    "def grade_documents(state:AgentState)->Literal[\"Output_Generator\", \"Query_Rewriter\"]:\n",
    "    llm_with_structure_op=llm.with_structured_output(grade)\n",
    "    \n",
    "    prompt=PromptTemplate(\n",
    "        template=\"\"\"You are a grader deciding if a document is relevant to a user’s question.\n",
    "                    Here is the document: {context}\n",
    "                    Here is the user’s question: {question}\n",
    "                    If the document talks about or contains information related to the user’s question, mark it as relevant. \n",
    "                    Give a 'yes' or 'no' answer to show if the document is relevant to the question.\"\"\",\n",
    "                    input_variables=[\"context\", \"question\"]\n",
    "                    )\n",
    "    chain = prompt | llm_with_structure_op\n",
    "    \n",
    "    messages = state[\"messages\"]\n",
    "\n",
    "    last_message = messages[-1]\n",
    "    question = messages[0].content\n",
    "    docs = last_message.content\n",
    "\n",
    "    scored_result = chain.invoke({\"question\": question, \"context\": docs})\n",
    "    score = scored_result.binary_score\n",
    "\n",
    "    if score == \"yes\":\n",
    "        print(\"---DECISION: DOCS RELEVANT---\")\n",
    "        return \"generator\" #this should be a node name\n",
    "    else:\n",
    "        print(\"---DECISION: DOCS NOT RELEVANT---\")\n",
    "        return \"rewriter\" #this should be a node name"
   ]
  },
  {
   "cell_type": "code",
   "execution_count": 18,
   "id": "da7f20bf",
   "metadata": {},
   "outputs": [],
   "source": [
    "def generate(state:AgentState):\n",
    "    print(\"---GENERATE---\")\n",
    "    messages = state[\"messages\"]\n",
    "    \n",
    "    question = messages[0].content\n",
    "    last_message = messages[-1]\n",
    "    docs = last_message.content\n",
    "    \n",
    "    prompt = hub.pull(\"rlm/rag-prompt\")\n",
    "    \n",
    "    rag_chain = prompt | llm | StrOutputParser()\n",
    "\n",
    "    response = rag_chain.invoke({\"context\": docs, \"question\": question})\n",
    "    \n",
    "    return {\"messages\": [response]}"
   ]
  },
  {
   "cell_type": "code",
   "execution_count": 19,
   "id": "86c3c589",
   "metadata": {},
   "outputs": [],
   "source": [
    "def rewrite(state:AgentState):\n",
    "    print(\"---TRANSFORM QUERY---\")\n",
    "    messages = state['messages']\n",
    "    question = messages[0].content\n",
    "    message = [\n",
    "        HumanMessage(\n",
    "            content=f\"\"\"Look at the input and try to reason about the underlying semantic intent or meaning. \n",
    "                    Here is the initial question: \n",
    "                    \\n -------------- \\n\n",
    "                    {question} \n",
    "                    \\n -------------- \\n\n",
    "                    Formulate an improved question: \"\"\")\n",
    "       ]\n",
    "    response = llm.invoke(message)\n",
    "    return {\"messages\": [response]}"
   ]
  },
  {
   "cell_type": "code",
   "execution_count": 20,
   "id": "3c9fc760",
   "metadata": {},
   "outputs": [
    {
     "data": {
      "text/plain": [
       "<langgraph.graph.state.StateGraph at 0x1d982d2f1d0>"
      ]
     },
     "execution_count": 20,
     "metadata": {},
     "output_type": "execute_result"
    }
   ],
   "source": [
    "workflow = StateGraph(AgentState)\n",
    "workflow.add_node(\"ai_assistant\", AI_Assistance)\n",
    "workflow.add_node(\"retriever\", retrieve)\n",
    "workflow.add_node(\"rewriter\", rewrite)\n",
    "workflow.add_node(\"generator\", generate)"
   ]
  },
  {
   "cell_type": "code",
   "execution_count": 21,
   "id": "87d29797",
   "metadata": {},
   "outputs": [
    {
     "data": {
      "text/plain": [
       "<langgraph.graph.state.StateGraph at 0x1d982d2f1d0>"
      ]
     },
     "execution_count": 21,
     "metadata": {},
     "output_type": "execute_result"
    }
   ],
   "source": [
    "workflow.add_edge(START, \"ai_assistant\")\n",
    "workflow.add_conditional_edges(\"ai_assistant\",tools_condition, {\"tools\":\"retriever\",END:END})"
   ]
  },
  {
   "cell_type": "code",
   "execution_count": 22,
   "id": "db06f3a2",
   "metadata": {},
   "outputs": [
    {
     "data": {
      "text/plain": [
       "<langgraph.graph.state.StateGraph at 0x1d982d2f1d0>"
      ]
     },
     "execution_count": 22,
     "metadata": {},
     "output_type": "execute_result"
    }
   ],
   "source": [
    "workflow.add_conditional_edges(\"retriever\", \n",
    "                               grade_documents, \n",
    "                               {\"rewriter\":\"rewriter\",\"generator\":\"generator\"})"
   ]
  },
  {
   "cell_type": "code",
   "execution_count": 23,
   "id": "71b4aa11",
   "metadata": {},
   "outputs": [
    {
     "data": {
      "text/plain": [
       "<langgraph.graph.state.StateGraph at 0x1d982d2f1d0>"
      ]
     },
     "execution_count": 23,
     "metadata": {},
     "output_type": "execute_result"
    }
   ],
   "source": [
    "workflow.add_edge(\"generator\", END)\n",
    "workflow.add_edge(\"rewriter\", \"ai_assistant\")\n"
   ]
  },
  {
   "cell_type": "code",
   "execution_count": 24,
   "id": "77c20185",
   "metadata": {},
   "outputs": [],
   "source": [
    "app = workflow.compile()"
   ]
  },
  {
   "cell_type": "code",
   "execution_count": 25,
   "id": "7261e77d",
   "metadata": {},
   "outputs": [
    {
     "data": {
      "image/png": "[encoded data removed]",
      "text/plain": [
       "<IPython.core.display.Image object>"
      ]
     },
     "metadata": {},
     "output_type": "display_data"
    }
   ],
   "source": [
    "from IPython.display import Image, display\n",
    "\n",
    "try:\n",
    "    display(Image(app.get_graph().draw_mermaid_png()))\n",
    "except Exception as e:\n",
    "    # This requires some extra dependencies and is optional\n",
    "    print(e)"
   ]
  },
  {
   "cell_type": "code",
   "execution_count": 26,
   "id": "067cdc8a",
   "metadata": {},
   "outputs": [
    {
     "name": "stdout",
     "output_type": "stream",
     "text": [
      "---CALL AGENT---\n"
     ]
    },
    {
     "data": {
      "text/plain": [
       "{'messages': [HumanMessage(content='What is a Autonomous Agent?', additional_kwargs={}, response_metadata={}, id='69c999cc-172f-4b81-b7a8-341e1351ccbe'),\n",
       "  AIMessage(content=\"An autonomous agent is a type of artificial intelligence (AI) system that can perform tasks without human intervention. Autonomous agents are designed to operate independently, making decisions and taking actions based on their own reasoning, perception, and learning.\\n\\nAutonomous agents can be classified into different types, including:\\n\\n1. **Simple reflex agents**: These agents react to the current state of the environment without considering future consequences.\\n2. **Model-based reflex agents**: These agents maintain an internal model of the environment and use it to make decisions.\\n3. **Goal-based agents**: These agents have specific goals and can plan to achieve them.\\n4. **Utility-based agents**: These agents make decisions based on a utility function that estimates the desirability of different actions.\\n5. **Learning agents**: These agents can learn from their experiences and adapt to new situations.\\n\\nAutonomous agents can be applied in various domains, such as:\\n\\n1. **Robotics**: Autonomous robots can navigate and interact with their environment.\\n2. **Smart homes**: Autonomous agents can control and optimize home automation systems.\\n3. **Transportation**: Autonomous vehicles can drive and navigate without human input.\\n4. **Healthcare**: Autonomous agents can monitor patients and make decisions about treatment.\\n5. **Finance**: Autonomous agents can trade stocks and manage portfolios.\\n\\nThe benefits of autonomous agents include:\\n\\n1. **Increased efficiency**: Autonomous agents can perform tasks faster and more accurately than humans.\\n2. **Improved safety**: Autonomous agents can reduce the risk of human error and accidents.\\n3. **Enhanced decision-making**: Autonomous agents can analyze large amounts of data and make informed decisions.\\n\\nHowever, autonomous agents also raise concerns about:\\n\\n1. **Accountability**: Who is responsible for the actions of an autonomous agent?\\n2. **Transparency**: How do autonomous agents make their decisions?\\n3. **Security**: How can autonomous agents be protected from cyber threats?\\n\\nOverall, autonomous agents have the potential to revolutionize various industries and aspects of our lives, but it's essential to address the challenges and concerns associated with their development and deployment.\", additional_kwargs={}, response_metadata={'token_usage': {'completion_tokens': 411, 'prompt_tokens': 364, 'total_tokens': 775, 'completion_time': 0.887509108, 'prompt_time': 0.013813126, 'queue_time': 0.045251379, 'total_time': 0.901322234}, 'model_name': 'meta-llama/llama-4-scout-17b-16e-instruct', 'system_fingerprint': 'fp_5b1ac042bf', 'finish_reason': 'stop', 'logprobs': None}, id='run-43c42983-2966-40d3-86a1-87572b07fdbd-0', usage_metadata={'input_tokens': 364, 'output_tokens': 411, 'total_tokens': 775})]}"
      ]
     },
     "execution_count": 26,
     "metadata": {},
     "output_type": "execute_result"
    }
   ],
   "source": [
    "app.invoke({\"messages\":[\"What is a Autonomous Agent?\"]})"
   ]
  },
  {
   "cell_type": "code",
   "execution_count": 27,
   "id": "39aeeb00",
   "metadata": {},
   "outputs": [
    {
     "name": "stdout",
     "output_type": "stream",
     "text": [
      "---CALL AGENT---\n"
     ]
    },
    {
     "data": {
      "text/plain": [
       "{'messages': [HumanMessage(content='What is a Prompt Engineering?', additional_kwargs={}, response_metadata={}, id='921b4f40-fb56-47a6-b561-8866eefc4965'),\n",
       "  AIMessage(content=\"Prompt engineering is a technique used to improve the performance of language models, such as large language models (LLMs), by carefully designing and optimizing the input prompts or queries provided to the model. The goal of prompt engineering is to elicit specific, accurate, and relevant responses from the model.\\n\\nTraditional language models are trained on vast amounts of text data and can generate text based on a given prompt. However, the quality and relevance of the generated text can vary greatly depending on the prompt. A well-designed prompt can significantly improve the model's performance, while a poorly designed prompt can lead to subpar or even incorrect responses.\\n\\nPrompt engineering involves analyzing the model's behavior, understanding its strengths and weaknesses, and crafting prompts that are tailored to the model's capabilities. This can include techniques such as:\\n\\n1. **Prompt tuning**: Adjusting the wording, syntax, or semantics of the prompt to better match the model's training data or to emphasize specific aspects of the task.\\n2. **Prompt selection**: Choosing the most effective prompt from a set of candidate prompts, based on the model's performance or other evaluation metrics.\\n3. **Prompt engineering for specific tasks**: Designing prompts that are optimized for specific tasks, such as question-answering, text classification, or language translation.\\n\\nBy applying prompt engineering techniques, developers and researchers can:\\n\\n* Improve the accuracy and relevance of model responses\\n* Increase the model's robustness to variations in input or context\\n* Enhance the model's ability to generalize to new tasks or domains\\n* Reduce the need for extensive retraining or fine-tuning of the model\\n\\nOverall, prompt engineering is an important area of research in natural language processing (NLP) and artificial intelligence (AI), as it has the potential to significantly improve the performance and usability of language models.\", additional_kwargs={}, response_metadata={'token_usage': {'completion_tokens': 351, 'prompt_tokens': 364, 'total_tokens': 715, 'completion_time': 0.763300535, 'prompt_time': 0.01280705, 'queue_time': 0.197712919, 'total_time': 0.776107585}, 'model_name': 'meta-llama/llama-4-scout-17b-16e-instruct', 'system_fingerprint': 'fp_5b1ac042bf', 'finish_reason': 'stop', 'logprobs': None}, id='run-3997d369-f70e-40ce-9cea-8cf4fa3b41e0-0', usage_metadata={'input_tokens': 364, 'output_tokens': 351, 'total_tokens': 715})]}"
      ]
     },
     "execution_count": 27,
     "metadata": {},
     "output_type": "execute_result"
    }
   ],
   "source": [
    "app.invoke({\"messages\":[\"What is a Prompt Engineering?\"]})"
   ]
  },
  {
   "cell_type": "code",
   "execution_count": 28,
   "id": "82ae35c8",
   "metadata": {},
   "outputs": [
    {
     "name": "stdout",
     "output_type": "stream",
     "text": [
      "---CALL AGENT---\n",
      "---DECISION: DOCS RELEVANT---\n",
      "---GENERATE---\n"
     ]
    },
    {
     "data": {
      "text/plain": [
       "{'messages': [HumanMessage(content='What is a Prompt Engineering?', additional_kwargs={}, response_metadata={}, id='4e1e9056-91a9-4c72-ab74-807658f54a43'),\n",
       "  AIMessage(content='', additional_kwargs={'tool_calls': [{'id': 'call_1p1m', 'function': {'arguments': '{\"query\": \"Prompt Engineering\"}', 'name': 'retrieve_blog_posts'}, 'type': 'function'}]}, response_metadata={'token_usage': {'completion_tokens': 17, 'prompt_tokens': 364, 'total_tokens': 381, 'completion_time': 0.033508508, 'prompt_time': 0.011225992, 'queue_time': 0.050758763, 'total_time': 0.0447345}, 'model_name': 'meta-llama/llama-4-scout-17b-16e-instruct', 'system_fingerprint': 'fp_5b1ac042bf', 'finish_reason': 'tool_calls', 'logprobs': None}, id='run-d66d1e95-a2f8-4c47-a367-7cd006947ca5-0', tool_calls=[{'name': 'retrieve_blog_posts', 'args': {'query': 'Prompt Engineering'}, 'id': 'call_1p1m', 'type': 'tool_call'}], usage_metadata={'input_tokens': 364, 'output_tokens': 17, 'total_tokens': 381}),\n",
       "  ToolMessage(content='Prompt Engineering, also known as In-Context Prompting, refers to methods for how to communicate with LLM to steer its behavior for desired outcomes without updating the model weights. It is an empirical science and the effect of prompt engineering methods can vary a lot among models, thus requiring heavy experimentation and heuristics.\\n\\nOpenAI Cookbook has many in-depth examples for how to utilize LLM efficiently.\\nLangChain, a library for combining language models with other components to build applications.\\nPrompt Engineering Guide repo contains a pretty comprehensive collection of education materials on prompt engineering.\\nlearnprompting.org\\nPromptPerfect\\nSemantic Kernel\\n\\n[My personal spicy take] In my opinion, some prompt engineering papers are not worthy 8 pages long, since those tricks can be explained in one or a few sentences and the rest is all about benchmarking. An easy-to-use and shared benchmark infrastructure should be more beneficial to the community. Iterative prompting or external tool use would not be trivial to set up. Also non-trivial to align the whole research community to adopt it.\\nBasic Prompting#\\n\\nPrompt Engineering\\n    \\nDate: March 15, 2023  |  Estimated Reading Time: 21 min  |  Author: Lilian Weng\\n\\n\\n \\n\\n\\nTable of Contents\\n\\n\\n\\nBasic Prompting\\n\\nZero-Shot\\n\\nFew-shot\\n\\nTips for Example Selection\\n\\nTips for Example Ordering\\n\\n\\n\\nInstruction Prompting\\n\\nSelf-Consistency Sampling', name='retrieve_blog_posts', id='ed0ba1f6-be9a-412e-bf96-04d1ee0ad44e', tool_call_id='call_1p1m'),\n",
       "  HumanMessage(content='Prompt Engineering, also known as In-Context Prompting, refers to methods for communicating with Large Language Models (LLMs) to steer their behavior for desired outcomes without updating the model weights. It is an empirical science that involves experimenting with different prompts to achieve specific results. This field involves techniques such as basic prompting, instruction prompting, and self-consistency sampling.', additional_kwargs={}, response_metadata={}, id='87873aaa-8623-400c-ad5d-98b9e922daec')]}"
      ]
     },
     "execution_count": 28,
     "metadata": {},
     "output_type": "execute_result"
    }
   ],
   "source": [
    "app.invoke({\"messages\":[\"What is a Prompt Engineering?\"]})"
   ]
  },
  {
   "cell_type": "code",
   "execution_count": 29,
   "id": "daddae0f",
   "metadata": {},
   "outputs": [
    {
     "name": "stdout",
     "output_type": "stream",
     "text": [
      "---CALL AGENT---\n"
     ]
    },
    {
     "data": {
      "text/plain": [
       "{'messages': [HumanMessage(content='Who was the First Prime Minister of india?', additional_kwargs={}, response_metadata={}, id='1881f6f9-bede-41e7-ba70-3946b13e1385'),\n",
       "  AIMessage(content='Jawaharlal Nehru was the first Prime Minister of India. He served from August 15, 1947, to May 27, 1964.', additional_kwargs={}, response_metadata={'token_usage': {'completion_tokens': 35, 'prompt_tokens': 367, 'total_tokens': 402, 'completion_time': 0.071901638, 'prompt_time': 0.014293639, 'queue_time': 0.214149681, 'total_time': 0.086195277}, 'model_name': 'meta-llama/llama-4-scout-17b-16e-instruct', 'system_fingerprint': 'fp_5b1ac042bf', 'finish_reason': 'stop', 'logprobs': None}, id='run-2cb34e2f-1465-4305-90cb-b39b662deb3c-0', usage_metadata={'input_tokens': 367, 'output_tokens': 35, 'total_tokens': 402})]}"
      ]
     },
     "execution_count": 29,
     "metadata": {},
     "output_type": "execute_result"
    }
   ],
   "source": [
    "app.invoke({\"messages\":[\"Who was the First Prime Minister of india?\"]})"
   ]
  },
  {
   "cell_type": "code",
   "execution_count": 30,
   "id": "71fc97df",
   "metadata": {},
   "outputs": [
    {
     "name": "stdout",
     "output_type": "stream",
     "text": [
      "---CALL AGENT---\n"
     ]
    },
    {
     "data": {
      "text/plain": [
       "{'messages': [HumanMessage(content='List the name of all prime minister of India?', additional_kwargs={}, response_metadata={}, id='00516f9a-e05a-43e9-9abd-16332de9cacb'),\n",
       "  AIMessage(content=\"Here's a list of all the Prime Ministers of India:\\n\\n1. Jawaharlal Nehru (1947-1964)\\n2. Gulzarilal Nanda (1964)\\n3. Lal Bahadur Shastri (1964-1966)\\n4. Gulzarilal Nanda (1966)\\n5. Indira Gandhi (1966-1977)\\n6. Morarji Desai (1977-1979)\\n7. Charan Singh (1979-1980)\\n8. Indira Gandhi (1980-1984)\\n9. Rajiv Gandhi (1984-1989)\\n10. V.P. Singh (1989-1990)\\n11. Chandra Shekhar (1990-1991)\\n12. P.V. Narasimha Rao (1991-1996)\\n13. Atal Bihari Vajpayee (1996)\\n14. H.D. Deve Gowda (1996-1997)\\n15. I.K. Gujral (1997-1998)\\n16. Atal Bihari Vajpayee (1998-2004)\\n17. Manmohan Singh (2004-2014)\\n18. Narendra Modi (2014-present)\\n\\nThere have been a total of 18 Prime Ministers of India so far.\", additional_kwargs={}, response_metadata={'token_usage': {'completion_tokens': 269, 'prompt_tokens': 368, 'total_tokens': 637, 'completion_time': 0.591124443, 'prompt_time': 0.015360084, 'queue_time': 0.241017955, 'total_time': 0.606484527}, 'model_name': 'meta-llama/llama-4-scout-17b-16e-instruct', 'system_fingerprint': 'fp_5b1ac042bf', 'finish_reason': 'stop', 'logprobs': None}, id='run-0707e432-b042-4398-9a36-23266bcbb90c-0', usage_metadata={'input_tokens': 368, 'output_tokens': 269, 'total_tokens': 637})]}"
      ]
     },
     "execution_count": 30,
     "metadata": {},
     "output_type": "execute_result"
    }
   ],
   "source": [
    "app.invoke({\"messages\":[\"List the name of all prime minister of India?\"]})"
   ]
  }
 ],
 "metadata": {
  "kernelspec": {
   "display_name": "rag_env",
   "language": "python",
   "name": "python3"
  },
  "language_info": {
   "codemirror_mode": {
    "name": "ipython",
    "version": 3
   },
   "file_extension": ".py",
   "mimetype": "text/x-python",
   "name": "python",
   "nbconvert_exporter": "python",
   "pygments_lexer": "ipython3",
   "version": "3.11.2"
  }
 },
 "nbformat": 4,
 "nbformat_minor": 5
}
